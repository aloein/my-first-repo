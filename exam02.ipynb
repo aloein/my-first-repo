{
  "nbformat": 4,
  "nbformat_minor": 0,
  "metadata": {
    "colab": {
      "name": "exam02.ipynb",
      "private_outputs": true,
      "provenance": [],
      "collapsed_sections": [],
      "include_colab_link": true
    },
    "kernelspec": {
      "name": "python3",
      "display_name": "Python 3"
    }
  },
  "cells": [
    {
      "cell_type": "markdown",
      "metadata": {
        "id": "view-in-github",
        "colab_type": "text"
      },
      "source": [
        "<a href=\"https://colab.research.google.com/github/aloein/my-first-repo/blob/main/exam02.ipynb\" target=\"_parent\"><img src=\"https://colab.research.google.com/assets/colab-badge.svg\" alt=\"Open In Colab\"/></a>"
      ]
    },
    {
      "cell_type": "code",
      "metadata": {
        "id": "N-GUYhy9TuCS"
      },
      "source": [
        "import requests\r\n",
        "from bs4 import BeautifulSoup"
      ],
      "execution_count": null,
      "outputs": []
    },
    {
      "cell_type": "markdown",
      "metadata": {
        "id": "9LA5gy79qWWd"
      },
      "source": [
        "https://www.melon.com/chart/index.htm"
      ]
    },
    {
      "cell_type": "code",
      "metadata": {
        "id": "X1_qteeCTyIz"
      },
      "source": [
        "melon = requests.get('https://www.melon.com/chart/index.htm')"
      ],
      "execution_count": null,
      "outputs": []
    },
    {
      "cell_type": "code",
      "metadata": {
        "id": "Euz09xq3WTpp"
      },
      "source": [
        "html = melon.text"
      ],
      "execution_count": null,
      "outputs": []
    },
    {
      "cell_type": "code",
      "metadata": {
        "id": "JpdgHy9TxfC7"
      },
      "source": [
        "html"
      ],
      "execution_count": null,
      "outputs": []
    },
    {
      "cell_type": "code",
      "metadata": {
        "id": "zvjYayp9WX90"
      },
      "source": [
        "header = {\r\n",
        "    'user-agent': 'Mozilla/5.0 (Windows NT 6.1; Win64; x64) AppleWebKit/537.36 (KHTML, like Gecko) Chrome/66.0.3359.181 Safari/537.36',    \r\n",
        " }"
      ],
      "execution_count": null,
      "outputs": []
    },
    {
      "cell_type": "code",
      "metadata": {
        "id": "ocdufRPSxSgl"
      },
      "source": [
        "melon = requests.get('https://www.melon.com/chart/index.htm', headers=header)"
      ],
      "execution_count": null,
      "outputs": []
    },
    {
      "cell_type": "code",
      "metadata": {
        "id": "Qzk05WzAXJ-6"
      },
      "source": [
        "html = melon.text"
      ],
      "execution_count": null,
      "outputs": []
    },
    {
      "cell_type": "code",
      "metadata": {
        "id": "Kfisqy-Bx3hf"
      },
      "source": [
        "html"
      ],
      "execution_count": null,
      "outputs": []
    },
    {
      "cell_type": "code",
      "metadata": {
        "id": "kADe_yogXMsg"
      },
      "source": [
        "soup = BeautifulSoup(html, 'html.parser')"
      ],
      "execution_count": null,
      "outputs": []
    },
    {
      "cell_type": "code",
      "metadata": {
        "id": "aT-Q9xTQt2Vc"
      },
      "source": [
        "song_list = soup.select('.wrap_song_info .rank01')\r\n",
        "singer_list = soup.select('.wrap_song_info .rank02 .checkEllipsis')"
      ],
      "execution_count": null,
      "outputs": []
    },
    {
      "cell_type": "code",
      "metadata": {
        "id": "EEhG8ZWxvq1S"
      },
      "source": [
        "for song in song_list:\r\n",
        "    print(song.text.strip())    "
      ],
      "execution_count": null,
      "outputs": []
    },
    {
      "cell_type": "code",
      "metadata": {
        "id": "J5G3RXzmq_GI"
      },
      "source": [
        "for singer in singer_list:\r\n",
        "    print(singer.text.strip())    "
      ],
      "execution_count": null,
      "outputs": []
    },
    {
      "cell_type": "code",
      "metadata": {
        "id": "YY9ngUR5q2c0"
      },
      "source": [
        "for i, song in enumerate(song_list):\r\n",
        "    print(i+1,':', song.text.strip(), '-', singer_list[i].text.strip())"
      ],
      "execution_count": null,
      "outputs": []
    },
    {
      "cell_type": "code",
      "metadata": {
        "id": "iZUMK3Err0uz"
      },
      "source": [
        ""
      ],
      "execution_count": null,
      "outputs": []
    }
  ]
}