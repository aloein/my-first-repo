{
  "nbformat": 4,
  "nbformat_minor": 0,
  "metadata": {
    "colab": {
      "name": "exam04.ipynb",
      "private_outputs": true,
      "provenance": [],
      "collapsed_sections": [],
      "include_colab_link": true
    },
    "kernelspec": {
      "name": "python3",
      "display_name": "Python 3"
    }
  },
  "cells": [
    {
      "cell_type": "markdown",
      "metadata": {
        "id": "view-in-github",
        "colab_type": "text"
      },
      "source": [
        "<a href=\"https://colab.research.google.com/github/aloein/my-first-repo/blob/main/exam04.ipynb\" target=\"_parent\"><img src=\"https://colab.research.google.com/assets/colab-badge.svg\" alt=\"Open In Colab\"/></a>"
      ]
    },
    {
      "cell_type": "markdown",
      "metadata": {
        "id": "_w1ZuA1hCxDN"
      },
      "source": [
        "대한민국 구석구석 \r\n",
        "https://korean.visitkorea.or.kr"
      ]
    },
    {
      "cell_type": "markdown",
      "metadata": {
        "id": "q2ZqLQHVPwGp"
      },
      "source": [
        ""
      ]
    },
    {
      "cell_type": "code",
      "metadata": {
        "id": "fXmkWB2wPy7L"
      },
      "source": [
        "import requests\r\n",
        "from bs4 import BeautifulSoup"
      ],
      "execution_count": null,
      "outputs": []
    },
    {
      "cell_type": "markdown",
      "metadata": {
        "id": "MpKEtqe5gHGa"
      },
      "source": [
        "selenium 추가 설치"
      ]
    },
    {
      "cell_type": "markdown",
      "metadata": {
        "id": "8-9tYkUYP6wO"
      },
      "source": [
        ""
      ]
    },
    {
      "cell_type": "code",
      "metadata": {
        "id": "plvclSqGf2Mk"
      },
      "source": [
        "!pip install selenium\r\n",
        "!apt-get update # to update ubuntu to correctly run apt install\r\n",
        "!apt install chromium-chromedriver\r\n",
        "!cp /usr/lib/chromium-browser/chromedriver /usr/bin\r\n",
        "import sys\r\n",
        "sys.path.insert(0,'/usr/lib/chromium-browser/chromedriver')"
      ],
      "execution_count": null,
      "outputs": []
    },
    {
      "cell_type": "code",
      "metadata": {
        "id": "HiS-DSbdgksq"
      },
      "source": [
        "from selenium import webdriver\r\n",
        "\r\n",
        "chrome_options = webdriver.ChromeOptions()\r\n",
        "chrome_options.add_argument('--headless') #내부 창을 띄울 수 없으므로 설정\r\n",
        "chrome_options.add_argument('--no-sandbox')\r\n",
        "chrome_options.add_argument('--disable-dev-shm-usage')\r\n",
        "chrome_options.add_argument('--window-size=1920x1080')\r\n",
        "\r\n",
        "wd = webdriver.Chrome('chromedriver',options=chrome_options)"
      ],
      "execution_count": null,
      "outputs": []
    },
    {
      "cell_type": "code",
      "metadata": {
        "id": "YLHQgwIRr0f9"
      },
      "source": [
        "wd.get(\"https://korean.visitkorea.or.kr/main/main.html\")"
      ],
      "execution_count": null,
      "outputs": []
    },
    {
      "cell_type": "code",
      "metadata": {
        "id": "BCuJn3YfMET3"
      },
      "source": [
        "wd.execute_script('closeWin(1);')\r\n",
        "# wd.find_element_by_xpath('//*[@id=\"safetyStay1\"]/div/div/div[2]/button').click()"
      ],
      "execution_count": null,
      "outputs": []
    },
    {
      "cell_type": "code",
      "metadata": {
        "id": "m82Uc7Ttxeq3"
      },
      "source": [
        "element = wd.find_element_by_id(\"inp_search\")"
      ],
      "execution_count": null,
      "outputs": []
    },
    {
      "cell_type": "code",
      "metadata": {
        "id": "-sufeq5ts_sl"
      },
      "source": [
        "query = input('크롤링할 키워드는 무엇입니까?: ')"
      ],
      "execution_count": null,
      "outputs": []
    },
    {
      "cell_type": "code",
      "metadata": {
        "id": "ovzNtr0IwrNr"
      },
      "source": [
        "element.send_keys(query)"
      ],
      "execution_count": null,
      "outputs": []
    },
    {
      "cell_type": "code",
      "metadata": {
        "id": "6NCNFL2jypsd"
      },
      "source": [
        "a = wd.find_element_by_link_text(\"검색\").click()"
      ],
      "execution_count": null,
      "outputs": []
    },
    {
      "cell_type": "code",
      "metadata": {
        "id": "TqxkV7FpuOs1"
      },
      "source": [
        "html = wd.page_source\r\n",
        "soup = BeautifulSoup(html, 'html.parser')"
      ],
      "execution_count": null,
      "outputs": []
    },
    {
      "cell_type": "code",
      "metadata": {
        "id": "x7FpIG4vz2HE"
      },
      "source": [
        "titles = soup.select('div.area_txt > div.tit')"
      ],
      "execution_count": null,
      "outputs": []
    },
    {
      "cell_type": "code",
      "metadata": {
        "id": "HFr7_emsvVNV"
      },
      "source": [
        "for title in titles:\r\n",
        "  print(title.get_text())"
      ],
      "execution_count": null,
      "outputs": []
    },
    {
      "cell_type": "code",
      "metadata": {
        "id": "s0KkSE-OiOae"
      },
      "source": [
        "tags = soup.select('p.tag_type')"
      ],
      "execution_count": null,
      "outputs": []
    },
    {
      "cell_type": "code",
      "metadata": {
        "id": "sG9QA-P64DpE"
      },
      "source": [
        "for tag in tags:\r\n",
        "  print(tag.get_text())"
      ],
      "execution_count": null,
      "outputs": []
    },
    {
      "cell_type": "code",
      "metadata": {
        "id": "U-QamXot5enD"
      },
      "source": [
        "title_list = []\r\n",
        "tag_list = []\r\n",
        "\r\n",
        "for title in titles:\r\n",
        "  title_list.append(title.get_text())\r\n",
        "\r\n",
        "for tag in tags:\r\n",
        "  tag_list.append(tag.get_text())  "
      ],
      "execution_count": null,
      "outputs": []
    },
    {
      "cell_type": "code",
      "metadata": {
        "id": "zsi61DOZkmva"
      },
      "source": [
        "title_list"
      ],
      "execution_count": null,
      "outputs": []
    },
    {
      "cell_type": "code",
      "metadata": {
        "id": "fOyY6Fchs5_P"
      },
      "source": [
        "tag_list"
      ],
      "execution_count": null,
      "outputs": []
    },
    {
      "cell_type": "code",
      "metadata": {
        "id": "pfAPF09K5ES3"
      },
      "source": [
        "import pandas as pd\r\n",
        "\r\n",
        "df = pd.DataFrame()\r\n",
        "df['제목'] = title_list\r\n",
        "df['태그'] = tag_list"
      ],
      "execution_count": null,
      "outputs": []
    },
    {
      "cell_type": "code",
      "metadata": {
        "id": "snOr0rMs5K7j"
      },
      "source": [
        "df"
      ],
      "execution_count": null,
      "outputs": []
    },
    {
      "cell_type": "code",
      "metadata": {
        "id": "MC7Jgwul6J-G"
      },
      "source": [
        "df.to_csv('trip.csv')"
      ],
      "execution_count": null,
      "outputs": []
    },
    {
      "cell_type": "code",
      "metadata": {
        "id": "cDRtvYWV6Uzn"
      },
      "source": [
        "df.to_excel('trip.xlsx')"
      ],
      "execution_count": null,
      "outputs": []
    },
    {
      "cell_type": "code",
      "metadata": {
        "id": "uP93XaQn8nqF"
      },
      "source": [
        "images = soup.select('div.photo  img')"
      ],
      "execution_count": null,
      "outputs": []
    },
    {
      "cell_type": "code",
      "metadata": {
        "id": "svvzEnY73B9U"
      },
      "source": [
        "images"
      ],
      "execution_count": null,
      "outputs": []
    },
    {
      "cell_type": "code",
      "metadata": {
        "id": "TApDaOlLlkBe"
      },
      "source": [
        "image_list = []\r\n",
        "for img in images:\r\n",
        "  image_list.append(img['src'])"
      ],
      "execution_count": null,
      "outputs": []
    },
    {
      "cell_type": "code",
      "metadata": {
        "id": "f7uKbrjumGso"
      },
      "source": [
        "image_list"
      ],
      "execution_count": null,
      "outputs": []
    },
    {
      "cell_type": "code",
      "metadata": {
        "id": "tLMM7ZiemOP6"
      },
      "source": [
        "import urllib.request"
      ],
      "execution_count": null,
      "outputs": []
    },
    {
      "cell_type": "code",
      "metadata": {
        "id": "wK5N3Yicm8W0"
      },
      "source": [
        "for i, src in enumerate(image_list, 1):\r\n",
        "  urllib.request.urlretrieve(src, f'img{i}.jpg' )"
      ],
      "execution_count": null,
      "outputs": []
    }
  ]
}